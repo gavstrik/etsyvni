{
 "cells": [
  {
   "cell_type": "markdown",
   "metadata": {},
   "source": [
    "# \"De politiske akser i Danmark\"\n",
    "> \"En analyse af hvordan danske politikere stemmer i folketinget\"\n",
    "\n",
    "- toc: true\n",
    "- branch: master\n",
    "- badges: true\n",
    "- comments: true\n",
    "- author: Robin Engelhardt\n",
    "- categories: [notebook, pca, folketinget, politik]"
   ]
  },
  {
   "cell_type": "code",
   "execution_count": null,
   "metadata": {},
   "outputs": [],
   "source": []
  },
  {
   "cell_type": "markdown",
   "metadata": {},
   "source": [
    "Vi har for vane at opdele politik i højre- og venstrefløj. Den historiske årsag er oplysende: det var sådan medlemmerne af den franske nationalforsamling placerede sig efter den franske revolution i 1789. Dem til højre i salen var loyale over for konge og kirke, dem til venstre støttede revolutionen. På den måde undgik man de værste albuehug og [slåskampe](https://www.youtube.com/watch?v=GSXQ1ZgH7NQ) mens man skændtes om Frankrings fremtid.\n",
    "\n",
    "Hvordan burde de danske medlemmer af folketinget sidde i dag, hvis vi ville minimere risikoen for den slags håndgemæng? Spurgt på en anden måde: hvordan placerer man danske politiker i et lokale så deres politiske uenighed afspejles bedst muligt af deres indbyrdes afstande på en to-dimensionel flade? \n",
    "\n",
    "Der findes faktisk en simpel matematisk metode til at finde ud af det på. Den kaldes en 'principal component analyse' (pca), og bliver brugt flittigt i maskinlæring og til at lave undersøgende dataanalyse. Gevinsten ved at bruge en pca på folketingets afstemninger er, at vi kan se om de politiske partier vitterlig stemmer i forhold til det vil forestiller os som en højre- og venstrefløj i dansk politik. Vi vil med andre ord kunne svare på om det virkelig er rigtig, at Enhedslisten og Dansk Folkeparti er længst fra hinanden. Vi vil også kunne finde ud af, hvordan partierne grupperer sig i forhold til andre akser, hvor afstandene måske er lige så store. Da der jo er lige så mange politiske synspunkter i folketinget som der er folketingsmedlemmer, er pca'en en rigtig god måde til at reducere de mange uenigheder ned til de to eller tre mest betydningsfulde uenigheds-typer der kendetegner dansk politik. En analyse på tværs af årene vil desuden kunne vise, hvordan partierne har bevæget sig i forhold til hinanden i løbet af årene.\n",
    "\n",
    "Vi starter med at se på det danske folketing anno 2020:"
   ]
  },
  {
   "cell_type": "markdown",
   "metadata": {},
   "source": [
    "![](https://raw.githubusercontent.com/gavstrik/gavstrik.github.io/e0a252d8bda9d552874b7d3edbf5dd9e346d6a18/assets/publpics/folketinget_2020.svg \"Folketinget 2020. Credits: https://parliamentdiagram.toolforge.org/parlitest.php\")"
   ]
  },
  {
   "cell_type": "markdown",
   "metadata": {},
   "source": [
    "<div style=\"direction:ltr;line-height:23px;\"><span style=\"display:inline-block;vertical-align:top;box-sizing:border-box;width:34px;height:23px;overflow:hidden;font-size:15px;border:thin solid #333;background:#E6801A;color:#202122;text-align:center;\">&#160;</span> Enhedslisten: 13 mandater</div> <div style=\"direction:ltr;line-height:23px;\"><span style=\"display:inline-block;vertical-align:top;box-sizing:border-box;width:34px;height:23px;overflow:hidden;font-size:15px;border:thin solid #333;background:#E07EA8;color:#202122;text-align:center;\">&#160;</span> Socialistisk Folkeparti: 15 mandater</div> <div style=\"direction:ltr;line-height:23px;\"><span style=\"display:inline-block;vertical-align:top;box-sizing:border-box;width:34px;height:23px;overflow:hidden;font-size:15px;border:thin solid #333;background:#EF3B2C;color:#202122;text-align:center;\">&#160;</span> Siumut&#160;: 1 mandat</div> <div style=\"direction:ltr;line-height:23px;\"><span style=\"display:inline-block;vertical-align:top;box-sizing:border-box;width:34px;height:23px;overflow:hidden;font-size:15px;border:thin solid #333;background:#A82721;color:#202122;text-align:center;\">&#160;</span> Socialdemokratiet: 48 mandater</div> <div style=\"direction:ltr;line-height:23px;\"><span style=\"display:inline-block;vertical-align:top;box-sizing:border-box;width:34px;height:23px;overflow:hidden;font-size:15px;border:thin solid #333;background:#2B8738;color:#202122;text-align:center;\">&#160;</span> Alternativet: 1 mandat</div> <div style=\"direction:ltr;line-height:23px;\"><span style=\"display:inline-block;vertical-align:top;box-sizing:border-box;width:34px;height:23px;overflow:hidden;font-size:15px;border:thin solid #333;background:#737373;color:#202122;text-align:center;\">&#160;</span> Uden for folketingsgrupperne: 4 mandater</div> <div style=\"direction:ltr;line-height:23px;\"><span style=\"display:inline-block;vertical-align:top;box-sizing:border-box;width:34px;height:23px;overflow:hidden;font-size:15px;border:thin solid #333;background:#733280;color:#202122;text-align:center;\">&#160;</span> Radikale Venstre: 16 mandater</div> <div style=\"direction:ltr;line-height:23px;\"><span style=\"display:inline-block;vertical-align:top;box-sizing:border-box;width:34px;height:23px;overflow:hidden;font-size:15px;border:thin solid #333;background:#41B6C4;color:#202122;text-align:center;\">&#160;</span> Sambandsflokkurin: 1 mandat</div> <div style=\"direction:ltr;line-height:23px;\"><span style=\"display:inline-block;vertical-align:top;box-sizing:border-box;width:34px;height:23px;overflow:hidden;font-size:15px;border:thin solid #333;background:#67001F;color:#202122;text-align:center;\">&#160;</span> Javnaðarflokkurin: 1 mandat</div> <div style=\"direction:ltr;line-height:23px;\"><span style=\"display:inline-block;vertical-align:top;box-sizing:border-box;width:34px;height:23px;overflow:hidden;font-size:15px;border:thin solid #333;background:#980043;color:#202122;text-align:center;\">&#160;</span> Inuit Ataqatigiit: 1 mandat</div> <div style=\"direction:ltr;line-height:23px;\"><span style=\"display:inline-block;vertical-align:top;box-sizing:border-box;width:34px;height:23px;overflow:hidden;font-size:15px;border:thin solid #333;background:#254264;color:#202122;text-align:center;\">&#160;</span> Venstre: 42 mandater</div> <div style=\"direction:ltr;line-height:23px;\"><span style=\"display:inline-block;vertical-align:top;box-sizing:border-box;width:34px;height:23px;overflow:hidden;font-size:15px;border:thin solid #333;background:#96B226;color:#202122;text-align:center;\">&#160;</span> Det Konservative Folkeparti: 13 mandater</div> <div style=\"direction:ltr;line-height:23px;\"><span style=\"display:inline-block;vertical-align:top;box-sizing:border-box;width:34px;height:23px;overflow:hidden;font-size:15px;border:thin solid #333;background:#3FB2BE;color:#202122;text-align:center;\">&#160;</span> Liberal Alliance: 3 mandater</div> <div style=\"direction:ltr;line-height:23px;\"><span style=\"display:inline-block;vertical-align:top;box-sizing:border-box;width:34px;height:23px;overflow:hidden;font-size:15px;border:thin solid #333;background:#EAC73E;color:#202122;text-align:center;\">&#160;</span> Dansk Folkeparti: 16 mandater</div> <div style=\"direction:ltr;line-height:23px;\"><span style=\"display:inline-block;vertical-align:top;box-sizing:border-box;width:34px;height:23px;overflow:hidden;font-size:15px;border:thin solid #333;background:#127B7F;color:#202122;text-align:center;\">&#160;</span> Nye Borgerlige: 4 mandater</div></td>\n"
   ]
  },
  {
   "source": [
    "Der er ti danske partier og fire oversøiske. Og så er der fire (pr. 4. dec 5) mandater uden for folketingsgrupperne som udgør løsgængerne fra de Frie Grønne samt Simon Emil Ammitzbøll-Bille. Alle data finder vi via den frit tilgængelige database på oda.ft.dk. "
   ],
   "cell_type": "markdown",
   "metadata": {}
  },
  {
   "cell_type": "code",
   "execution_count": 2,
   "metadata": {},
   "outputs": [],
   "source": [
    "#collapse-hide\n",
    "import sys\n",
    "import pyodbc \n",
    "import pandas as pd\n",
    "import numpy as np \n",
    "import matplotlib.pyplot as plt\n",
    "import xml.etree.ElementTree as ET\n",
    "from collections import Counter\n",
    "from sklearn.decomposition import PCA\n",
    "import seaborn as sns\n",
    "sns.set_style('white')\n",
    "sns.set_context('notebook')\n",
    "plt.rcParams[\"font.family\"] = \"sans-serif\"\n",
    "PLOTS_DIR = 'plots'\n",
    "%matplotlib inline"
   ]
  },
  {
   "cell_type": "markdown",
   "metadata": {},
   "source": [
    "Jeg starter med at kalde min SQL server og skrive en søgning til oda-databasen, hvorefter resultatet importeres til en pandas dataframe. Den periode vi er interesseret i er perioden 2019-2020 som har id = 151."
   ]
  },
  {
   "cell_type": "code",
   "execution_count": 3,
   "metadata": {},
   "outputs": [
    {
     "output_type": "execute_result",
     "data": {
      "text/plain": [
       "   afstemning  periodeid  periode  \\\n",
       "0        7165        151  2019-20   \n",
       "1        7165        151  2019-20   \n",
       "2        7165        151  2019-20   \n",
       "3        7165        151  2019-20   \n",
       "4        7165        151  2019-20   \n",
       "\n",
       "                                               titel  \\\n",
       "0  Forslag til folketingsbeslutning om danske mil...   \n",
       "1  Forslag til folketingsbeslutning om danske mil...   \n",
       "2  Forslag til folketingsbeslutning om danske mil...   \n",
       "3  Forslag til folketingsbeslutning om danske mil...   \n",
       "4  Forslag til folketingsbeslutning om danske mil...   \n",
       "\n",
       "                                              resume  \\\n",
       "0  Med folketingsbeslutningen får regeringen Folk...   \n",
       "1  Med folketingsbeslutningen får regeringen Folk...   \n",
       "2  Med folketingsbeslutningen får regeringen Folk...   \n",
       "3  Med folketingsbeslutningen får regeringen Folk...   \n",
       "4  Med folketingsbeslutningen får regeringen Folk...   \n",
       "\n",
       "                                          konklusion       dato  stemme  \\\n",
       "0  Forslaget blev vedtaget. For stemte 106 (S, V,... 2019-10-24       1   \n",
       "1  Forslaget blev vedtaget. For stemte 106 (S, V,... 2019-10-24       1   \n",
       "2  Forslaget blev vedtaget. For stemte 106 (S, V,... 2019-10-24       1   \n",
       "3  Forslaget blev vedtaget. For stemte 106 (S, V,... 2019-10-24       1   \n",
       "4  Forslaget blev vedtaget. For stemte 106 (S, V,... 2019-10-24       1   \n",
       "\n",
       "         fornavn        efternavn  \\\n",
       "0         Erling         Bonnesen   \n",
       "1         Morten          Bødskov   \n",
       "2           Bent          Bøgsted   \n",
       "3        Lennart  Damsbo-Andersen   \n",
       "4  Louise Schack           Elholm   \n",
       "\n",
       "                                            biografi  \n",
       "0  <member><url>/medlemmer/mf/e/erling-bonnesen</...  \n",
       "1  <member><url>/medlemmer/mf/m/morten-boedskov</...  \n",
       "2  <member><url>/medlemmer/mf/b/bent-boegsted</ur...  \n",
       "3  <member><url>/medlemmer/mf/l/lennart-damsbo-an...  \n",
       "4  <member><url>/medlemmer/mf/l/louise-schack-elh...  "
      ],
      "text/html": "<div>\n<style scoped>\n    .dataframe tbody tr th:only-of-type {\n        vertical-align: middle;\n    }\n\n    .dataframe tbody tr th {\n        vertical-align: top;\n    }\n\n    .dataframe thead th {\n        text-align: right;\n    }\n</style>\n<table border=\"1\" class=\"dataframe\">\n  <thead>\n    <tr style=\"text-align: right;\">\n      <th></th>\n      <th>afstemning</th>\n      <th>periodeid</th>\n      <th>periode</th>\n      <th>titel</th>\n      <th>resume</th>\n      <th>konklusion</th>\n      <th>dato</th>\n      <th>stemme</th>\n      <th>fornavn</th>\n      <th>efternavn</th>\n      <th>biografi</th>\n    </tr>\n  </thead>\n  <tbody>\n    <tr>\n      <th>0</th>\n      <td>7165</td>\n      <td>151</td>\n      <td>2019-20</td>\n      <td>Forslag til folketingsbeslutning om danske mil...</td>\n      <td>Med folketingsbeslutningen får regeringen Folk...</td>\n      <td>Forslaget blev vedtaget. For stemte 106 (S, V,...</td>\n      <td>2019-10-24</td>\n      <td>1</td>\n      <td>Erling</td>\n      <td>Bonnesen</td>\n      <td>&lt;member&gt;&lt;url&gt;/medlemmer/mf/e/erling-bonnesen&lt;/...</td>\n    </tr>\n    <tr>\n      <th>1</th>\n      <td>7165</td>\n      <td>151</td>\n      <td>2019-20</td>\n      <td>Forslag til folketingsbeslutning om danske mil...</td>\n      <td>Med folketingsbeslutningen får regeringen Folk...</td>\n      <td>Forslaget blev vedtaget. For stemte 106 (S, V,...</td>\n      <td>2019-10-24</td>\n      <td>1</td>\n      <td>Morten</td>\n      <td>Bødskov</td>\n      <td>&lt;member&gt;&lt;url&gt;/medlemmer/mf/m/morten-boedskov&lt;/...</td>\n    </tr>\n    <tr>\n      <th>2</th>\n      <td>7165</td>\n      <td>151</td>\n      <td>2019-20</td>\n      <td>Forslag til folketingsbeslutning om danske mil...</td>\n      <td>Med folketingsbeslutningen får regeringen Folk...</td>\n      <td>Forslaget blev vedtaget. For stemte 106 (S, V,...</td>\n      <td>2019-10-24</td>\n      <td>1</td>\n      <td>Bent</td>\n      <td>Bøgsted</td>\n      <td>&lt;member&gt;&lt;url&gt;/medlemmer/mf/b/bent-boegsted&lt;/ur...</td>\n    </tr>\n    <tr>\n      <th>3</th>\n      <td>7165</td>\n      <td>151</td>\n      <td>2019-20</td>\n      <td>Forslag til folketingsbeslutning om danske mil...</td>\n      <td>Med folketingsbeslutningen får regeringen Folk...</td>\n      <td>Forslaget blev vedtaget. For stemte 106 (S, V,...</td>\n      <td>2019-10-24</td>\n      <td>1</td>\n      <td>Lennart</td>\n      <td>Damsbo-Andersen</td>\n      <td>&lt;member&gt;&lt;url&gt;/medlemmer/mf/l/lennart-damsbo-an...</td>\n    </tr>\n    <tr>\n      <th>4</th>\n      <td>7165</td>\n      <td>151</td>\n      <td>2019-20</td>\n      <td>Forslag til folketingsbeslutning om danske mil...</td>\n      <td>Med folketingsbeslutningen får regeringen Folk...</td>\n      <td>Forslaget blev vedtaget. For stemte 106 (S, V,...</td>\n      <td>2019-10-24</td>\n      <td>1</td>\n      <td>Louise Schack</td>\n      <td>Elholm</td>\n      <td>&lt;member&gt;&lt;url&gt;/medlemmer/mf/l/louise-schack-elh...</td>\n    </tr>\n  </tbody>\n</table>\n</div>"
     },
     "metadata": {},
     "execution_count": 3
    }
   ],
   "source": [
    "#collapse-hide\n",
    "\n",
    "periodid = 151\n",
    "conn = pyodbc.connect('Driver={SQL Server};'\n",
    "                      'Server=HUM1006903\\SQLEXPRESS;'\n",
    "                      'Database=oda_20201103;'\n",
    "                      #'Database=oda;'\n",
    "                      'Trusted_Connection=yes;')\n",
    "cursor = conn.cursor()\n",
    "\n",
    "sql_query = pd.read_sql_query('SELECT \\\n",
    "        oda.dbo.Afstemning.id AS afstemning, \\\n",
    "        oda.dbo.Sag.periodeid, \\\n",
    "        oda.dbo.Periode.titel AS periode, \\\n",
    "        oda.dbo.Sag.titel AS titel, \\\n",
    "        oda.dbo.Sag.resume, \\\n",
    "        oda.dbo.Afstemning.konklusion, \\\n",
    "        oda.dbo.Sagstrin.dato, \\\n",
    "        oda.dbo.Stemme.typeid AS stemme, \\\n",
    "        oda.dbo.Aktør.fornavn, \\\n",
    "        oda.dbo.Aktør.efternavn, \\\n",
    "        oda.dbo.Aktør.biografi \\\n",
    "    FROM oda.dbo.Afstemning \\\n",
    "    JOIN oda.dbo.Stemme ON oda.dbo.Afstemning.id = oda.dbo.Stemme.afstemningid \\\n",
    "    JOIN oda.dbo.Aktør ON oda.dbo.Aktør.id = oda.dbo.Stemme.aktørid \\\n",
    "    JOIN oda.dbo.Sagstrin ON oda.dbo.Sagstrin.id = oda.dbo.Afstemning.sagstrinid \\\n",
    "    JOIN oda.dbo.Sag ON oda.dbo.Sag.id = oda.dbo.Sagstrin.sagid \\\n",
    "    JOIN oda.dbo.Periode ON oda.dbo.Sag.periodeid = oda.dbo.Periode.id \\\n",
    "    WHERE oda.dbo.Sag.periodeid='+str(periodid)+';', conn)\n",
    "\n",
    "sql_query.head()"
   ]
  },
  {
   "cell_type": "code",
   "execution_count": 4,
   "metadata": {},
   "outputs": [
    {
     "output_type": "execute_result",
     "data": {
      "text/plain": [
       "'151: 2019-20'"
      ]
     },
     "metadata": {},
     "execution_count": 4
    }
   ],
   "source": [
    "#hide\n",
    "period_txt = str(sql_query['periodeid'].unique()[0]) + ': ' + sql_query.periode.unique()[0]\n",
    "period_txt"
   ]
  },
  {
   "cell_type": "code",
   "execution_count": 5,
   "metadata": {},
   "outputs": [
    {
     "output_type": "stream",
     "name": "stdout",
     "text": [
      "323\n57817\n"
     ]
    }
   ],
   "source": [
    "#show\n",
    "print(len(sql_query.afstemning.unique()))\n",
    "print(len(sql_query))"
   ]
  },
  {
   "cell_type": "markdown",
   "metadata": {},
   "source": [
    "Som man kan se, er der kun 323 afstemninger og knap 58.000 rækker i dataframen. Coronakrisen i 2020 betød at afstemninger mellem 28. maj 2020 og slut oktober blev foretaget ved håndsoprækkelse og derfor ikke er inkluderet i databasen). \n",
    "\n",
    "I det følgende er der lidt data-rengøring, som vi bliver nød til at gøre. Vi kan se, at tabellen ikke indeholder nogen kolonne, der angiver hvilket parti folketingsmedlemmerne tilhører. Det haves ikke i databasen. Eneste sted jeg kan se, at man kan finde et folketingsmedlems partitilknytning i data er i \"biografi\"-kolonnen, som består af en masse XML tags. For at ekstrahere partinavnet, der er placeret mellem tagsene \"party\", bruger jeg bibliotekten xml.etree:"
   ]
  },
  {
   "cell_type": "code",
   "execution_count": 6,
   "metadata": {},
   "outputs": [],
   "source": [
    "#collapse-hide\n",
    "party = []\n",
    "for bio_string in sql_query['biografi'].values:\n",
    "    try:\n",
    "        root = ET.fromstring(bio_string)\n",
    "        for child in root.findall(\"./party\"):\n",
    "            party.append(child.text)\n",
    "    except Exception as e:\n",
    "        party.append(None)\n",
    "        continue\n",
    "sql_query['party'] = party\n",
    "#sql_query.party.unique()"
   ]
  },
  {
   "cell_type": "code",
   "execution_count": 7,
   "metadata": {},
   "outputs": [],
   "source": [
    "#hide\n",
    "# her tjekker vi lige at alle har et tilknyttet parti:\n",
    "for index, row in sql_query.iterrows():\n",
    "    if row.party == None:\n",
    "        print(index, row['afstemning_id'], row['fornavn'], row['efternavn'], row['stemme'])"
   ]
  },
  {
   "cell_type": "markdown",
   "metadata": {},
   "source": [
    "Næste skridt i rensningen af data består i at omkode de enkelte stemmer så deres numeriske værdi er normaliseret og kan bruges i analysen. Folketingets database har kodet dem sådan at et 1-tal betyder en stemme FOR, et 2-tal betyder IMOD, et 3-tal betyder FRAVÆR, og et 4-tal betyder \"Hverken for eller imod\". I stedet koder jeg dem sådan at 1 betyder FOR, -1 betyder \"IMOD\", og 0 betyder \"hverken for eller imod. Desuden samler jeg for- og efternavn og beholder kun de kolonner, vi har brug for:"
   ]
  },
  {
   "cell_type": "code",
   "execution_count": 8,
   "metadata": {},
   "outputs": [],
   "source": [
    "#collapse-hide\n",
    "\n",
    "sql_query['navn'] = sql_query[['fornavn', 'efternavn']].agg(' '.join, axis=1)"
   ]
  },
  {
   "cell_type": "code",
   "execution_count": 9,
   "metadata": {},
   "outputs": [
    {
     "output_type": "execute_result",
     "data": {
      "text/plain": [
       "       afstemning                                              titel resume  \\\n",
       "57812        7490  Folketinget konstaterer, at det aftalte loft o...          \n",
       "57813        7490  Folketinget konstaterer, at det aftalte loft o...          \n",
       "57814        7490  Folketinget konstaterer, at det aftalte loft o...          \n",
       "57815        7490  Folketinget konstaterer, at det aftalte loft o...          \n",
       "57816        7490  Folketinget konstaterer, at det aftalte loft o...          \n",
       "\n",
       "                                              konklusion  \\\n",
       "57812  Forslaget blev vedtaget. For stemte 54 (S, RV,...   \n",
       "57813  Forslaget blev vedtaget. For stemte 54 (S, RV,...   \n",
       "57814  Forslaget blev vedtaget. For stemte 54 (S, RV,...   \n",
       "57815  Forslaget blev vedtaget. For stemte 54 (S, RV,...   \n",
       "57816  Forslaget blev vedtaget. For stemte 54 (S, RV,...   \n",
       "\n",
       "                        navn                        party  stemme  \n",
       "57812       Birgitte Bergman  Det Konservative Folkeparti       0  \n",
       "57813          Birgitte Vind            Socialdemokratiet       0  \n",
       "57814       Pernille Vermund               Nye Borgerlige       0  \n",
       "57815  Theresa Berg Andersen      Socialistisk Folkeparti       0  \n",
       "57816            Ruben Kidde             Radikale Venstre       0  "
      ],
      "text/html": "<div>\n<style scoped>\n    .dataframe tbody tr th:only-of-type {\n        vertical-align: middle;\n    }\n\n    .dataframe tbody tr th {\n        vertical-align: top;\n    }\n\n    .dataframe thead th {\n        text-align: right;\n    }\n</style>\n<table border=\"1\" class=\"dataframe\">\n  <thead>\n    <tr style=\"text-align: right;\">\n      <th></th>\n      <th>afstemning</th>\n      <th>titel</th>\n      <th>resume</th>\n      <th>konklusion</th>\n      <th>navn</th>\n      <th>party</th>\n      <th>stemme</th>\n    </tr>\n  </thead>\n  <tbody>\n    <tr>\n      <th>57812</th>\n      <td>7490</td>\n      <td>Folketinget konstaterer, at det aftalte loft o...</td>\n      <td></td>\n      <td>Forslaget blev vedtaget. For stemte 54 (S, RV,...</td>\n      <td>Birgitte Bergman</td>\n      <td>Det Konservative Folkeparti</td>\n      <td>0</td>\n    </tr>\n    <tr>\n      <th>57813</th>\n      <td>7490</td>\n      <td>Folketinget konstaterer, at det aftalte loft o...</td>\n      <td></td>\n      <td>Forslaget blev vedtaget. For stemte 54 (S, RV,...</td>\n      <td>Birgitte Vind</td>\n      <td>Socialdemokratiet</td>\n      <td>0</td>\n    </tr>\n    <tr>\n      <th>57814</th>\n      <td>7490</td>\n      <td>Folketinget konstaterer, at det aftalte loft o...</td>\n      <td></td>\n      <td>Forslaget blev vedtaget. For stemte 54 (S, RV,...</td>\n      <td>Pernille Vermund</td>\n      <td>Nye Borgerlige</td>\n      <td>0</td>\n    </tr>\n    <tr>\n      <th>57815</th>\n      <td>7490</td>\n      <td>Folketinget konstaterer, at det aftalte loft o...</td>\n      <td></td>\n      <td>Forslaget blev vedtaget. For stemte 54 (S, RV,...</td>\n      <td>Theresa Berg Andersen</td>\n      <td>Socialistisk Folkeparti</td>\n      <td>0</td>\n    </tr>\n    <tr>\n      <th>57816</th>\n      <td>7490</td>\n      <td>Folketinget konstaterer, at det aftalte loft o...</td>\n      <td></td>\n      <td>Forslaget blev vedtaget. For stemte 54 (S, RV,...</td>\n      <td>Ruben Kidde</td>\n      <td>Radikale Venstre</td>\n      <td>0</td>\n    </tr>\n  </tbody>\n</table>\n</div>"
     },
     "metadata": {},
     "execution_count": 9
    }
   ],
   "source": [
    "#collapse-hide\n",
    "\n",
    "df = sql_query[['afstemning', 'titel', 'resume', 'konklusion', 'navn', 'party', 'stemme']]\n",
    "df['stemme'].replace(to_replace=2, value=-1, inplace=True)\n",
    "df['stemme'].replace(to_replace=4, value=0, inplace=True)\n",
    "df.tail()"
   ]
  },
  {
   "source": [
    "Lad os lige se hvor mange stemmer der er i hver kategori:"
   ],
   "cell_type": "markdown",
   "metadata": {}
  },
  {
   "cell_type": "code",
   "execution_count": 10,
   "metadata": {},
   "outputs": [
    {
     "output_type": "execute_result",
     "data": {
      "text/plain": [
       "Counter({1: 22567, -1: 11244, 3: 20853, 0: 3153})"
      ]
     },
     "metadata": {},
     "execution_count": 10
    }
   ],
   "source": [
    "#show\n",
    "Counter(df.stemme)"
   ]
  },
  {
   "cell_type": "markdown",
   "metadata": {},
   "source": [
    "Desværre viser det sig at der er rigtig mange fravær i folketinget (mange 3-taller), og manglende stemmer gør det vanskeligt at foretage en ordentlig PCA, fordi de gængs PCA-algoritmer ikke kan klare NaNs. Da der er mødepligt i folketinget, og alle folketingsmedlemmer SKAL stemme ved alle afstemninger, er det jo en mærkelig sag. Men det viser sig, at folketingets partier benytter sig af såkaldte 'clearingsaftaler', som er private aftaler mellem de forskellige folketingsgrupper. Aftalerne sikrer, at et antal folketingsmedlemmer fra hver partigruppe kan få 'fri' fra afstemningerne i folketingssalen, uden at der derved rokkes ved, hvilke partier som har flertal i Folketinget, eller ved, at der skal være mindst 90 medlemmer til stede, for at Folketinget er beslutningsdygtigt. Clearingaftalerne giver dermed mulighed for, at de politiske aktiviteter ikke går i stå, selv om der er møde og afstemninger i salen. Aftalerne giver plads til, at medlemmerne kan deltage i f.eks. politiske møder eller deltage i andre aktiviteter uden for Christiansborg, uden at afstemningerne i folketingssalen af den grund får et utilsigtet udfald.\n",
    "\n",
    "I praksis indgås aftalerne typisk ved, at partigrupperne parvist aftaler for en hel folketingssamling, hvor mange medlemmer hver partigruppe kan 'cleare' hos hinanden - dvs. give lov til at blive væk fra afstemningerne, fordi den politiske modpart også beder et antal medlemmer blive væk. Når et medlem er clearet, stemmer medlemmet ikke i salen den pågældende dag. Hvordan clearingerne fordeles på medlemmer i partigrupperne kan veksle fra dag til dag, alt efter hvem der har behov for at være fri for at deltage i afstemningerne i salen. Det er typisk gruppesekretæren i den enkelte folketingsgruppe, som koordinerer fordelingen af clearingerne og sikrer, at man kan stille med det aftalte antal medlemmer ved eventuelle afstemninger. Det er også typisk gruppesekretæren, som tager kontakt til sin modpart i de andre partigrupper, hvis man pludselig har mandefald på grund af f.eks. sygdom eller lignende, og aftaler de nødvendige yderligere clearinger for en relevant periode. Det typiske mønster for clearingaftalerne er, at regeringspartierne clearer medlemmer med deres umiddelbare modpart. Dermed sikrer man lettest, at den politiske balance er bevaret på trods af clearingerne.\n",
    "\n",
    "Efter en samtale med partisekretær Annette Lind (S), som i nuværende folketingssamling en den der sammen med Erling Bonnesen (V) koordinerer clearningsaftalerne for alle partierne, forstå jeg at hvis en person bliver clearet, så vil den person ALTID stemme ihht. partilinjen. Det vil sige at jeg kan skrive en funktion, der erstatter alle fravær med typetallet (\"mode\") for partiet for den givne afstemning. I tilfælde af at fravær er den hyppigste adfærd, vælger jeg i stedet den anden mest hyppige stemmetype. Og hvis alle medlemmer af et parti har været fraværende ved en afstemning (hvilket hyppigt sker for de grønlandske og færøske stemmer), sætter jeg dem til at være hverken for eller imod, dvs. til 0. Hvis et folketingsmedlem er \"Uden for folketingsgrupperne\", ændrer jeg FRAVÆR til \"Hverken for eller imod\" da jeg ikke kunne få bekræftet om løsgængerne også benytter sig af clearningsaftaler.\n"
   ]
  },
  {
   "cell_type": "code",
   "execution_count": 11,
   "metadata": {
    "tags": []
   },
   "outputs": [
    {
     "output_type": "execute_result",
     "data": {
      "text/plain": [
       "Counter({1: 35397, -1: 17254, 0: 5166})"
      ]
     },
     "metadata": {},
     "execution_count": 11
    }
   ],
   "source": [
    "#collapse-hide\n",
    "def get_most_frequent_vote(afstemning, party):\n",
    "    df_ap = df[(df.afstemning == afstemning) & (df.party == party)]\n",
    "    party_votes = df_ap.stemme.values\n",
    "\n",
    "    cnt = Counter(party_votes)\n",
    "    mostfrequent_vote = cnt.most_common()[0][0]\n",
    "    if mostfrequent_vote == 3:\n",
    "        try:\n",
    "            mostfrequent_vote = cnt.most_common()[1][0] # set the second most frequent vote as the most frequent one.\n",
    "        except: # if all members of the party have been absent\n",
    "            mostfrequent_vote = 0 # set their most frequent vote to be \"abstain\"  \n",
    "\n",
    "    return mostfrequent_vote\n",
    "\n",
    "for i, row in df.iterrows():\n",
    "    if row['stemme'] == 3:\n",
    "        if row['party'] == 'Uden for folketingsgrupperne':\n",
    "            df.at[i,'stemme'] = 0\n",
    "        else:\n",
    "            ifor_val = get_most_frequent_vote(row['afstemning'], row['party'])\n",
    "            df.at[i,'stemme'] = ifor_val\n",
    "Counter(df.stemme)"
   ]
  },
  {
   "cell_type": "markdown",
   "metadata": {},
   "source": [
    "For at få data i det rigtige format, bliver vi dernæst nød til at reorganisere tabellen således at rækkerne viser de enkelte folketingsmedlemmer, søjlerne de enkelte afstemninger, og selve cellerne indeholder så stemmerne. Vi kan bruge pivot-funtionen i python:"
   ]
  },
  {
   "cell_type": "code",
   "execution_count": 12,
   "metadata": {},
   "outputs": [
    {
     "output_type": "execute_result",
     "data": {
      "text/plain": [
       "                    navn              party  7165  7166  7167  7168  7169  \\\n",
       "0   Aaja Chemnitz Larsen  Inuit Ataqatigiit   0.0   0.0   0.0   0.0   0.0   \n",
       "1  Aki-Matilda Høegh-Dam             Siumut   0.0   0.0   0.0   0.0   0.0   \n",
       "2        Alex Vanopslagh   Liberal Alliance   1.0   1.0   1.0  -1.0  -1.0   \n",
       "3        Anders Kronborg  Socialdemokratiet   1.0   1.0   1.0  -1.0  -1.0   \n",
       "4      Andreas Steenberg   Radikale Venstre   1.0   1.0   1.0  -1.0  -1.0   \n",
       "\n",
       "   7170  7171  7172  ...  7481  7482  7483  7484  7485  7486  7487  7488  \\\n",
       "0   0.0   0.0   0.0  ...   0.0   0.0   0.0   0.0   0.0   0.0   0.0   0.0   \n",
       "1   0.0   0.0   0.0  ...   0.0   0.0   0.0   0.0   0.0   0.0   0.0   0.0   \n",
       "2   1.0   1.0  -1.0  ...  -1.0   1.0   1.0   1.0   1.0   1.0   1.0   1.0   \n",
       "3   1.0   1.0   1.0  ...   1.0   1.0   1.0   1.0   1.0   1.0   1.0   1.0   \n",
       "4   1.0  -1.0   1.0  ...  -1.0  -1.0   1.0   1.0   1.0   1.0   1.0   1.0   \n",
       "\n",
       "   7489  7490  \n",
       "0   0.0   0.0  \n",
       "1   0.0   0.0  \n",
       "2   1.0   0.0  \n",
       "3   1.0   1.0  \n",
       "4   1.0   0.0  \n",
       "\n",
       "[5 rows x 325 columns]"
      ],
      "text/html": "<div>\n<style scoped>\n    .dataframe tbody tr th:only-of-type {\n        vertical-align: middle;\n    }\n\n    .dataframe tbody tr th {\n        vertical-align: top;\n    }\n\n    .dataframe thead th {\n        text-align: right;\n    }\n</style>\n<table border=\"1\" class=\"dataframe\">\n  <thead>\n    <tr style=\"text-align: right;\">\n      <th></th>\n      <th>navn</th>\n      <th>party</th>\n      <th>7165</th>\n      <th>7166</th>\n      <th>7167</th>\n      <th>7168</th>\n      <th>7169</th>\n      <th>7170</th>\n      <th>7171</th>\n      <th>7172</th>\n      <th>...</th>\n      <th>7481</th>\n      <th>7482</th>\n      <th>7483</th>\n      <th>7484</th>\n      <th>7485</th>\n      <th>7486</th>\n      <th>7487</th>\n      <th>7488</th>\n      <th>7489</th>\n      <th>7490</th>\n    </tr>\n  </thead>\n  <tbody>\n    <tr>\n      <th>0</th>\n      <td>Aaja Chemnitz Larsen</td>\n      <td>Inuit Ataqatigiit</td>\n      <td>0.0</td>\n      <td>0.0</td>\n      <td>0.0</td>\n      <td>0.0</td>\n      <td>0.0</td>\n      <td>0.0</td>\n      <td>0.0</td>\n      <td>0.0</td>\n      <td>...</td>\n      <td>0.0</td>\n      <td>0.0</td>\n      <td>0.0</td>\n      <td>0.0</td>\n      <td>0.0</td>\n      <td>0.0</td>\n      <td>0.0</td>\n      <td>0.0</td>\n      <td>0.0</td>\n      <td>0.0</td>\n    </tr>\n    <tr>\n      <th>1</th>\n      <td>Aki-Matilda Høegh-Dam</td>\n      <td>Siumut</td>\n      <td>0.0</td>\n      <td>0.0</td>\n      <td>0.0</td>\n      <td>0.0</td>\n      <td>0.0</td>\n      <td>0.0</td>\n      <td>0.0</td>\n      <td>0.0</td>\n      <td>...</td>\n      <td>0.0</td>\n      <td>0.0</td>\n      <td>0.0</td>\n      <td>0.0</td>\n      <td>0.0</td>\n      <td>0.0</td>\n      <td>0.0</td>\n      <td>0.0</td>\n      <td>0.0</td>\n      <td>0.0</td>\n    </tr>\n    <tr>\n      <th>2</th>\n      <td>Alex Vanopslagh</td>\n      <td>Liberal Alliance</td>\n      <td>1.0</td>\n      <td>1.0</td>\n      <td>1.0</td>\n      <td>-1.0</td>\n      <td>-1.0</td>\n      <td>1.0</td>\n      <td>1.0</td>\n      <td>-1.0</td>\n      <td>...</td>\n      <td>-1.0</td>\n      <td>1.0</td>\n      <td>1.0</td>\n      <td>1.0</td>\n      <td>1.0</td>\n      <td>1.0</td>\n      <td>1.0</td>\n      <td>1.0</td>\n      <td>1.0</td>\n      <td>0.0</td>\n    </tr>\n    <tr>\n      <th>3</th>\n      <td>Anders Kronborg</td>\n      <td>Socialdemokratiet</td>\n      <td>1.0</td>\n      <td>1.0</td>\n      <td>1.0</td>\n      <td>-1.0</td>\n      <td>-1.0</td>\n      <td>1.0</td>\n      <td>1.0</td>\n      <td>1.0</td>\n      <td>...</td>\n      <td>1.0</td>\n      <td>1.0</td>\n      <td>1.0</td>\n      <td>1.0</td>\n      <td>1.0</td>\n      <td>1.0</td>\n      <td>1.0</td>\n      <td>1.0</td>\n      <td>1.0</td>\n      <td>1.0</td>\n    </tr>\n    <tr>\n      <th>4</th>\n      <td>Andreas Steenberg</td>\n      <td>Radikale Venstre</td>\n      <td>1.0</td>\n      <td>1.0</td>\n      <td>1.0</td>\n      <td>-1.0</td>\n      <td>-1.0</td>\n      <td>1.0</td>\n      <td>-1.0</td>\n      <td>1.0</td>\n      <td>...</td>\n      <td>-1.0</td>\n      <td>-1.0</td>\n      <td>1.0</td>\n      <td>1.0</td>\n      <td>1.0</td>\n      <td>1.0</td>\n      <td>1.0</td>\n      <td>1.0</td>\n      <td>1.0</td>\n      <td>0.0</td>\n    </tr>\n  </tbody>\n</table>\n<p>5 rows × 325 columns</p>\n</div>"
     },
     "metadata": {},
     "execution_count": 12
    }
   ],
   "source": [
    "#collapse-hide\n",
    "dp = df.pivot_table(index = ['navn', 'party'], columns=['afstemning'], values=['stemme'])\n",
    "dp.dropna(inplace=True)\n",
    "dp.columns = [col[1] for col in dp.columns] # get rid of the extra multicolumn \"vote\"\n",
    "dp = dp.reset_index(level=['navn', 'party']) # make the multiindex [name, party] into two columns\n",
    "dp.head()"
   ]
  },
  {
   "source": [
    "Dernæst giver vi partierne en farve, så vi kan kende forskel på dem på det resulterende plot:"
   ],
   "cell_type": "markdown",
   "metadata": {}
  },
  {
   "cell_type": "code",
   "execution_count": 13,
   "metadata": {},
   "outputs": [],
   "source": [
    "#collapse-hide\n",
    "# compute the color that each MP should be, based on their party. color codes are taken from https://www.dr.dk/om-dr/designmanager/temapakker/folketingsvalg-2019\n",
    "color_dict = {\n",
    "        'Enhedslisten' : '#E6801A',\n",
    "        'Socialistisk Folkeparti'  : '#E07EA8',\n",
    "        'Sambandsflokkurin' : '#41b6c4',\n",
    "        'Javnaðarflokkurin' : '#67001f',\n",
    "        'Socialdemokratiet' : '#A82721',\n",
    "        'Siumut' : '#ef3b2c',\n",
    "        'Radikale Venstre' : '#733280',\n",
    "        'Inuit Ataqatigiit' : '#980043',\n",
    "        'Det Konservative Folkeparti' : '#96B226',\n",
    "        'Liberal Alliance'  : '#3FB2BE',\n",
    "        'Venstre' : '#254264',\n",
    "        'Dansk Folkeparti': '#EAC73E',\n",
    "        'Uden for folketingsgrupperne' : '#737373',\n",
    "        'nan' : 'black',\n",
    "        'Alternativet' : '#2B8738',\n",
    "        'Nye Borgerlige' : '#127B7F',\n",
    "        'Kristendemokraterne' : '#8B8474',\n",
    "        'Klaus Riskær Pedersen' : '#6C8BB8',\n",
    "        'Stram Kurs' : '#998F4D', \n",
    "        'Nunatta Qitornai' : '#c51b8a',\n",
    "        'Tjóðveldi' : '#a6d96a'\n",
    "}\n",
    "def party_color(x):\n",
    "    return color_dict.get(str(x),'black')\n",
    "\n",
    "colors = [party_color(x) for x in dp['party']]"
   ]
  },
  {
   "source": [
    "De originale data har lige så mange dimensioner som afstemninger, men pca'en reducerer dem ned til tre eller endda kun to dimensioner. De to/tre dimensioner er så til gengæld dem, der viser størst varians i data, og kan derfor bruges som abstrakte indikatorer for hvor meget folketingsmedlemmerne er uenige med hinanden. Dimensionerne er desuden ortogonale på hinanden, hvilket betyder at de er uafhængige af hinanden. Enhver korrelation mellem afstemningerne transformeres således til linæere ukorrelerede variable der kaldes 'komponenter'. PCA er altså en \"usuperviseret\" metode, der beregnet afstanden mellem partierne som en kompleks blanding af, hvordan der blev stemt i de 323 afstemninger der blev registreret i folketingssamlingen 2019-2020.\n",
    "\n",
    "For at dimensions-reduktionen kan give et nogenlunde retvisende billede af forskellene er det dog vigtigt at de 2-3 principale komponenter fanger størstedelen af variansen i data. Forneden vælger vi antallet af komponenter til at være 3, og kalder den første komponent for xvector, og den anden komponent for yvector. \n"
   ],
   "cell_type": "markdown",
   "metadata": {}
  },
  {
   "cell_type": "code",
   "execution_count": 14,
   "metadata": {},
   "outputs": [
    {
     "output_type": "execute_result",
     "data": {
      "text/plain": [
       "(array([59.93278144, 25.24262653, 16.02101912]),\n",
       " array([0.44414989, 0.18706807, 0.11872858]))"
      ]
     },
     "metadata": {},
     "execution_count": 14
    }
   ],
   "source": [
    "#collapse-hide\n",
    "num_folketingsmedlemmer = len(dp)\n",
    "num_bills = len(dp.columns)-2\n",
    "bills = dp.columns[2:num_bills+2]\n",
    "dat = dp.iloc[:,2:num_bills+2]\n",
    "\n",
    "pca = PCA(n_components=3)\n",
    "pca.fit(dat)\n",
    "xvector = pca.components_[0] \n",
    "yvector = pca.components_[1]\n",
    "\n",
    "xs = pca.transform(dat)[:,0] \n",
    "ys = pca.transform(dat)[:,1]\n",
    "pca.explained_variance_, pca.explained_variance_ratio_"
   ]
  },
  {
   "source": [
    "Som det kan ses fanger den første komponent 44,4 procent af variansen i data. Det er ikke så meget som håbet (i de tidligere folketingsår kommer den typisk op på 60-70%), men skyldes nok det specielle Corona-år vi har haft. Vi må leve med det, og kan nu plotte resultatet:"
   ],
   "cell_type": "markdown",
   "metadata": {}
  },
  {
   "cell_type": "code",
   "execution_count": 15,
   "metadata": {},
   "outputs": [],
   "source": [
    "#collapse-hide\n",
    "from adjustText import adjust_text\n",
    "fig, ax = plt.subplots()\n",
    "\n",
    "ix_high = np.argsort(xvector)[-5:] # returns an array of sorted indexes of the components\n",
    "ix_low = np.argsort(xvector)[:5] \n",
    "iy_high = np.argsort(yvector)[-5:] # returns an array of sorted indexes of the components\n",
    "iy_low = np.argsort(yvector)[:5] \n",
    "ix_highest_and_lowest_comps = np.append(ix_high, ix_low)\n",
    "iy_highest_and_lowest_comps = np.append(iy_high, iy_low)\n",
    "\n",
    "def get_arr_index_colors(color):\n",
    "    # returns an array of indexes in the colors array corresponding to a certain party with color \"color\"\n",
    "    col_mask = np.where(np.array(colors) == color,True,False)\n",
    "    col_index = np.arange(0, len(colors))[col_mask]\n",
    "    return col_index\n",
    "\n",
    "for color in np.unique(colors):\n",
    "    ix_color = get_arr_index_colors(color)\n",
    "    ax.scatter(xs[ix_color], ys[ix_color], c = color, label = list(color_dict.keys())[list(color_dict.values()).index(color)])\n",
    "    for i in ix_color:\n",
    "        ax.annotate(dp.iloc[i]['navn'], (xs[i], ys[i]), fontsize=2)\n",
    "\n",
    "for i in ix_highest_and_lowest_comps:\n",
    "# arrows project features as vectors onto PC axes\n",
    "    plt.arrow(0, 0, xvector[i]*max(xs)*2, yvector[i]*max(ys)*2,\n",
    "              color='grey', width=0.0005, head_width=0.005)\n",
    "    texts = [plt.text(xvector[i]*max(xs)*2.2, yvector[i]*max(ys)*2.2,\n",
    "             list(dat.columns.values)[i], color='black', fontsize=3)]\n",
    "\n",
    "for i in iy_highest_and_lowest_comps:\n",
    "# arrows project features as vectors onto PC axes\n",
    "    plt.arrow(0, 0, xvector[i]*max(xs)*2, yvector[i]*max(ys)*2,\n",
    "              color='grey', width=0.0005, head_width=0.005)\n",
    "    plt.text(xvector[i]*max(xs)*2.2, yvector[i]*max(ys)*2.2,\n",
    "             list(dat.columns.values)[i], color='black', fontsize=3)\n",
    "\n",
    "plt.scatter(0,0, color='white', s=4, zorder=20)\n",
    "\n",
    "adjust_text(texts)\n",
    "\n",
    "lgd = ax.legend(title=str(num_bills)+' afstemninger', prop={'size': 10}, bbox_to_anchor=(1.05, 1))\n",
    "ax.set_title('Folketingsperiode ' + period_txt, fontsize=14)\n",
    "\n",
    "# invert the x-axis so that the \"left wing\" goes to the left and the \"right wing\" to the right. First grab a reference to the current axes and then set the xlimits to be the reverse of the current xlimits\n",
    "ax = plt.gca()\n",
    "ax.set_xlim(ax.get_xlim()[::-1]) # vi vender akserne om, så det matcher med det visuelle udtryk om at venstrefløjen er på venstre side og højrefløjen på højre side.\n",
    "ax.set_ylim(ax.get_ylim()[::-1])\n",
    "#ax.set_xlim([25,-15])\n",
    "#ax.set_ylim([12.5,-12.5])\n",
    "\n",
    "#plt.tight_layout()\n",
    "\n",
    "\n",
    "# Remember: save as pdf and transparent=True for Adobe Illustrator\n",
    "if not os.path.exists(PLOTS_DIR):\n",
    "    os.makedirs(PLOTS_DIR)\n",
    "\n",
    "plt.savefig(os.path.join(PLOTS_DIR, 'ft'+str(periodid)+'.png'), bbox_extra_artists=(lgd,), bbox_inches='tight', transparent=True, dpi=800)\n",
    "plt.savefig(os.path.join(PLOTS_DIR, 'ft'+str(periodid)+'.pdf'), bbox_extra_artists=(lgd,), bbox_inches='tight', transparent=True, dpi=800)\n",
    "plt.close()"
   ]
  },
  {
   "source": [
    "![pca-resultat for folketinget 2019-2020](plots/ft151.png)"
   ],
   "cell_type": "markdown",
   "metadata": {}
  },
  {
   "cell_type": "markdown",
   "metadata": {},
   "source": [
    "x-aksen giver et ganske godt billede af hvad vi normalt forestiller os som den ideologiske højre-venstre akse i dansk politik. Enhedslisten ligger yderst til venstre, og Dansk Folkeparti ligger yderst til højre (i hvert fald i årene før folketingsvalget i efteråret 2018), og i midten øverst ligger Socialdemokratiet. Der er dog et par overraskelser. De Radikale venstre ligger klart til venstre for Socialdemokratiet, ja faktisk tættere på SF end på S. De mest 'højreorienterede' partier i dansk politik er hverken Dansk Folkeparti eller de Nye Borgerlige. Det er Venstre og Det Konservative Folkeparti, to partier der i øvrigt er stort set uskelnelige i deres stemmerafgivelser. De oversøiske mandater roder i midten, hvilket primært er en konsekvens af at de ofte afholder sig fra at stemme eller stemmer 'hverken for eller imod'. \n",
    "\n",
    "Som eksempel kan vi kigge på løsgængerne stemmeadfærd:"
   ]
  },
  {
   "cell_type": "code",
   "execution_count": 18,
   "metadata": {},
   "outputs": [
    {
     "output_type": "stream",
     "name": "stdout",
     "text": [
      "Sikandar Siddique Counter({1: 176, 2: 78, 3: 59, 4: 10})\nSimon Emil Ammitzbøll-Bille Counter({3: 272, 4: 38, 1: 11, 2: 2})\nSusanne Zimmer Counter({1: 146, 3: 113, 2: 46, 4: 18})\nUffe Elbæk Counter({3: 229, 1: 44, 4: 28, 2: 22})\n"
     ]
    }
   ],
   "source": [
    "#show\n",
    "for lg in dp[dp.party == 'Uden for folketingsgrupperne'].navn.unique():\n",
    "    print(lg, Counter(sql_query[sql_query.navn == lg].stemme))"
   ]
  },
  {
   "source": [
    "som viser at Uffe Elbæk og Simon Emil Ammitzbøll-Bille været fraværende ved hhv 71% og 84% af alle registrerede afstemninger i folketingssalen (da der er møde- og stemmepligt, og de to næppe har lavet clearingsaftaler, er det måske en sag der er værd at undersøge nærmere). Sikandar Siddique derimod deltager flittigt i afstemningerne. "
   ],
   "cell_type": "markdown",
   "metadata": {}
  },
  {
   "source": [
    "Men lad os prøve at se lidt nærmere på denne første komponent i PCA-analysen, som altså projicerer ned på en akse de største forskelle mellem de danske politikere, og som står for circa 45 % af variansen i data. Vi starter med at plotte et heat map for at se, hvilke afstemninger der har haft størst betydning for denne spredning."
   ],
   "cell_type": "markdown",
   "metadata": {}
  },
  {
   "cell_type": "code",
   "execution_count": 19,
   "metadata": {},
   "outputs": [],
   "source": [
    "#collapse-hide\n",
    "\n",
    "# da der er 323 afstemninger tilføjer vil et ekstra element så vi har 12x27 elementer, \n",
    "# som vi så kan plotte ved at bruge matshow. Jeg har brugt en farvekode som angiver de \n",
    "# afstemninger der er vigtige for højrefløjen med blå, og dem der er vigtige for \n",
    "# venstrefløjen med rød.\n",
    "\n",
    "b = np.append(bills, [0])\n",
    "b = b.reshape(12,27)\n",
    "w = np.append(xvector, [0])\n",
    "w = w.reshape(12,27)\n",
    "\n",
    "fig, ax = plt.subplots(figsize=(12,8))\n",
    "mesh = ax.matshow(w, cmap='seismic')\n",
    "for (i, j), z in np.ndenumerate(b):\n",
    "    ax.text(j, i, '{}'.format(z), ha='center', va='center', fontsize=4, bbox=dict(boxstyle='round', facecolor='white', edgecolor='0.3'))\n",
    "plt.colorbar(mesh, ax=ax, fraction=0.02, pad=0.04) # arguments shrink the colorbar \n",
    "\n",
    "# Remember: save as pdf and transparent=True for Adobe Illustrator\n",
    "if not os.path.exists(PLOTS_DIR):\n",
    "    os.makedirs(PLOTS_DIR)\n",
    "\n",
    "plt.savefig(os.path.join(PLOTS_DIR, 'ft'+str(periodid)+'_heatmap_1.png'), transparent=True, dpi=300)\n",
    "# plt.savefig(os.path.join(PLOTS_DIR, 'ft'+str(periodid)+'_heatmap_1.pdf'), transparent=True, dpi=800)\n",
    "plt.close()"
   ]
  },
  {
   "source": [
    "![heat map for første komponent](plots/ft151_heatmap_1.png)"
   ],
   "cell_type": "markdown",
   "metadata": {}
  },
  {
   "source": [
    "Nu det samme for den anden komponent som udspænder y-aksen. "
   ],
   "cell_type": "markdown",
   "metadata": {}
  },
  {
   "cell_type": "code",
   "execution_count": 26,
   "metadata": {},
   "outputs": [],
   "source": [
    "#collapse-show\n",
    "# nu det samme for anden component:\n",
    "w = np.append(yvector, [0])\n",
    "w = w.reshape(12,27)\n",
    "\n",
    "fig, ax = plt.subplots(figsize=(12,8))\n",
    "mesh = ax.matshow(w, cmap='PiYG')\n",
    "for (i, j), z in np.ndenumerate(b):\n",
    "    ax.text(j, i, '{}'.format(z), ha='center', va='center', fontsize=4, bbox=dict(boxstyle='round', facecolor='white', edgecolor='0.3'))\n",
    "plt.colorbar(mesh, ax=ax, fraction=0.02, pad=0.04)\n",
    "\n",
    "# Remember: save as pdf and transparent=True for Adobe Illustrator\n",
    "if not os.path.exists(PLOTS_DIR):\n",
    "    os.makedirs(PLOTS_DIR)\n",
    "\n",
    "plt.savefig(os.path.join(PLOTS_DIR, 'ft'+str(periodid)+'_heatmap_2.png'), transparent=True, dpi=300)\n",
    "# plt.savefig(os.path.join(PLOTS_DIR, 'ft'+str(periodid)+'_heatmap_2.pdf'), transparent=True, dpi=800)\n",
    "plt.close()"
   ]
  },
  {
   "source": [
    "![heat map for første komponent](plots/ft151_heatmap_2.png)"
   ],
   "cell_type": "markdown",
   "metadata": {}
  },
  {
   "cell_type": "code",
   "execution_count": 27,
   "metadata": {},
   "outputs": [],
   "source": [
    "#collapse-hide\n",
    "import pprint"
   ]
  },
  {
   "cell_type": "code",
   "execution_count": 28,
   "metadata": {},
   "outputs": [
    {
     "output_type": "stream",
     "name": "stdout",
     "text": [
      "Her de mest polariserende afstemninger som de røde (dvs. venstrefløjen + S) stemte for og vandt:\n\nafstemnings-id 7399\n('Forslag til lov om ændring af færdselsloven. (Forhøjelse af bødeniveauet for '\n 'ulovlig afholdelse af hvil i køretøjet m.v.).')\n('Forslaget blev vedtaget. For stemte 60 (S, RV, SF, EL og ALT), imod stemte '\n '49 (V, DF, KF, NB og LA), hverken for eller imod stemte 0.')\n('Formålet med forslaget er at skærpe bødestraffen for ulovlig afholdelse af '\n 'det regulære hvil i køretøjet. Forslaget indeholder derfor retningslinjer, '\n 'hvorefter bødeniveauet forhøjes til en bøde på 10.000 kr. til chaufføren og '\n 'en bøde på 20.000 kr. til vognmanden. \\n'\n '\\n'\n 'Forslaget indeholder desuden en præcisering af, at retten til adgang uden '\n 'retskendelse til brug for den administrative kontrol med virksomheders '\n 'overholdelse af køre-hvile-tids-reglerne og kontrol med installatører og '\n 'værksteder, som kan udføre installering, eftersyn, kontrol og reparation af '\n 'takografer, er overgået til Transport- og Boligministeriet.\\n'\n '\\n'\n 'Loven træder i kraft den 1. marts 2020.')\n\n\n\nafstemnings-id 7386\n('Forslag til lov om ændring af aktieavancebeskatningsloven og '\n 'dødsboskatteloven. (Ophævelse af hovedaktionærnedslaget).')\n('Forslaget blev vedtaget. For stemte 56 (S, RV, SF, EL og ALT), imod stemte '\n '47 (V, DF, KF, NB og LA), hverken for eller imod stemte 0.')\n('Med lovforslaget foreslås det, at ophæve det særlige nedslag i den '\n 'skattepligtige fortjeneste, som kan opnås ved afståelse af '\n 'hovedaktionæraktier, der er erhvervet før den 19. maj 1993.')\n\n\n\nafstemnings-id 7351\n'Forslag til lov om et midlertidigt børnetilskud til visse forsørgere.'\n('Forslaget blev vedtaget. For stemte 56 (S, RV, SF, EL og ALT), imod stemte '\n '47 (V, DF, KF, NB og LA), hverken for eller imod stemte 0.')\n('Lovforslaget udmønter aftalen om et nyt midlertidigt børnetilskud, som '\n 'udspringer af det såkaldte forståelsespapir \"Retfærdig retning for Danmark\" '\n 'mellem regeringen (Socialdemokratiet), Radikale Venstre, Socialistisk '\n 'Folkeparti og Enhedslisten.\\n'\n '\\n'\n 'Med lovforslaget foreslås det at indføre et nyt midlertidigt skattefrit '\n 'børnetilskud til børnefamilier med børn under 15 år, hvor en eller begge '\n 'forældre er berørt af kontanthjælpsloftet og/eller integrationsydelsen.\\n'\n '\\n'\n 'Med lovforslaget foreslås det, at det nye midlertidige børnetilskud udgør '\n '700 kr. pr. barn pr. måned for familier på integrationsydelse og '\n 'uddannelsesparate uddannelseshjælpsmodtagere. Tilskuddet udgør 600 kr. pr. '\n 'barn pr. måned til enlige forældre og 550 kr. pr. barn pr. måned til øvrige '\n 'familier. Enlige forsørgere får derudover et tilskud på 650 kr. pr. måned '\n 'uafhængigt af antallet af børn. Børnefamilierne kan maksimalt få det i '\n 'børnetilskud, som de har mistet som følge af indførelsen af '\n 'kontanthjælpsloftet og integrationsydelsen.\\n'\n '\\n'\n 'Det foreslås, at lovforslaget træder i kraft 1. januar 2020 med virkning fra '\n '1. august 2019.')\n\n\n\nafstemnings-id 7376\n('Forslag til lov om ændring af lov om arbejdsløshedsforsikring m.v. '\n '(Afskaffelse af opholdskrav for ret til dagpenge m.v.).')\n('Forslaget blev vedtaget. For stemte 59 (S, RV, SF, EL og ALT), imod stemte '\n '50 (V, DF, KF, NB og LA), hverken for eller imod stemte 0.')\n('Med lovforslaget foreslås det at afskaffe opholdskravet for ret til '\n 'dagpenge, der kræver ophold i riget, et EU/EØS-land eller Schweiz i 5 ud af '\n '12 år i 2019, 6 ud af 12 år i 2020 og 7 ud af 12 år fra 2021 og fremefter.\\n'\n '\\n'\n 'Med lovforslaget foreslås det desuden, at der etableres en overgangsordning, '\n 'der giver mulighed for at genoprette medlemsskabet af en a-kasse fra '\n 'udmeldelsestidspunktet for personer, der har meldt sig ud, fordi de har '\n 'været ramt af opholdskravet. Ordningen målrettes personer, som ikke opfyldte '\n 'betingelserne i opholdskravet i 2019 og frem til afskaffelsen af '\n 'opholdskravet den 1. februar 2020, og som meldte sig ud af en a-kasse i '\n 'samme periode. \\n'\n '\\n'\n 'Det foreslås, at lovforslaget træder i kraft den 1. februar 2020.')\n\n\n\nafstemnings-id 7456\n('Forslag til lov om ændring af revisorloven og lov om formidling af fast '\n 'ejendom m.v. (Gebyrfinansiering af hvidvasktilsyn).')\n('Forslaget blev vedtaget. For stemte 54 (S, RV, SF, EL og UFG), imod stemte '\n '41 (V, DF, KF, NB og LA), hverken for eller imod stemte 0.')\n('Lovforslaget skaber hjemmel til at gebyrfinansiere de udgifter, som er '\n 'forbundet med hvidvasktilsynet med godkendte revisorer og ejendomsmæglere.\\n'\n '\\n'\n 'Loven skal træde i kraft den 1. januar 2021.\\n')\n\n\n\n"
     ]
    }
   ],
   "source": [
    "#collapse-hide\n",
    "print('Her de mest polariserende afstemninger som de røde (dvs. venstrefløjen + S) stemte for og vandt:\\n')\n",
    "for lov in bills[ix_high]:\n",
    "    print('afstemnings-id', lov)\n",
    "    pprint.pprint(df[df.afstemning == lov].titel.unique()[0])\n",
    "    pprint.pprint(df[df.afstemning == lov].konklusion.unique()[0])\n",
    "    pprint.pprint(df[df.afstemning == lov].resume.unique()[0])\n",
    "    print('\\n\\n')"
   ]
  },
  {
   "cell_type": "code",
   "execution_count": 29,
   "metadata": {},
   "outputs": [
    {
     "output_type": "stream",
     "name": "stdout",
     "text": [
      "Her de mest polariserende afstemninger som de blå (dvs. højrefløjen) stemte for og tabte:\n\nafstemnings-id 7414\n('Forslag til lov om ændring af lov om afgift af tinglysning af ejer- og '\n 'panterettigheder m.v. (tinglysningsafgiftsloven), emballageafgiftsloven, lov '\n 'om afgift af bekæmpelsesmidler og forskellige andre love. (Indeksering af de '\n 'faste tinglysningsafgifter og en række miljøafgifter og genindførelse af '\n 'registreringsafgiften på luftfartøjer m.v.).')\n('Forslaget blev forkastet. For stemte 50 (V, DF, KF, NB og LA), imod stemte '\n '59 (S, RV, SF, EL og ALT), hverken for eller imod stemte 0.')\n('Med lovforslaget foreslås det at indeksere afgifterne på tinglysning, '\n 'råstoffer, emballager, bekæmpelsesmidler og spildevand frem til 2025.\\n'\n '\\n'\n 'Indekseringen foreslås indført ved to satsforhøjelser i perioden 2020-2025. '\n 'Afgifterne på råstoffer og tinglysning forhøjes i 2020 og 2023, og '\n 'afgifterne på emballager, bekæmpelsesmidler og spildevand forhøjes i 2021 og '\n '2024. Afgifterne foreslås forhøjet med 5,5 pct. pr. gang.\\n'\n '\\n'\n 'Desuden foreslås en registreringsafgift på luftfartøjer fra og med den 1. '\n 'januar 2021, således at der indføres en afgift for registrering af '\n 'ejerrettigheder over fly på 0,1 pct. af flyets værdi og en afgift for '\n 'registrering af pantrettigheder i fly på 0,1 pct. af pantets værdi. For '\n 'registrering af pant i fly, der vejer under 5.700 kg, eller som er '\n 'registreret godkendt til højst 10 passagerer, er afgiften på 1,5 pct. af '\n 'pantets værdi.\\n'\n '\\n'\n 'Lovforslaget udmønter dele af aftale om finansloven for 2020 indgået den 2. '\n 'december 2019 mellem regeringen (Socialdemokratiet), Radikal Venstre, '\n 'Socialistisk Folkeparti, Enhedslisten og Alternativet.\\n')\n\n\n\nafstemnings-id 7248\n('Forslag til lov om ændring af lov om Arbejdsgivernes Uddannelsesbidrag. '\n '(Modelparametre for erhvervsuddannelser til brug for beregning af '\n 'praktikpladsafhængigt arbejdsgiverbidrag for 2020 og justering af det '\n 'aktivitetsafhængige VEU-bidrag for 2020 m.v.).')\n('Forslaget blev forkastet. For stemte 51 (V, DF, KF, NB og LA), imod stemte '\n '61 (S, RV, SF, EL og ALT), hverken for eller imod stemte 0.')\n('Forslaget vedrører det praktikpladsafhængige AUB-bidrag, der blev aftalt ved '\n '”Trepartsaftale om tilstrækkelig og kvalificeret arbejdskraft i hele Danmark '\n 'og praktikpladser” fra 2016, og det aktivitetsafhængige VEU-bidrag, der blev '\n 'aftalt ved ”Trepartsaftalen om styrket og mere fleksibel voksen-, efter- og '\n 'videreuddannelse (2018-2021)” fra 2017. \\n'\n '\\n'\n 'I lov om Arbejdsgivernes Uddannelsesbidrag er det forudsat, at der årligt '\n 'ved lov skal ske en fastsættelse af modelparametrene i det '\n 'praktikpladsafhængige AUB-bidrag og af bidragssatsen i det '\n 'aktivitetsafhængige VEU-bidrag. \\n'\n '\\n'\n 'Forslaget har derfor til formål at fastsætte de årlige modelparametre i det '\n 'praktikpladsafhængige AUB-bidrag for de enkelte erhvervsuddannelser for 2020 '\n 'i bilag 1 til lov om Arbejdsgivernes Uddannelsesbidrag og at indføre den '\n 'årlige tilpasning af det aktivitetsafhængige VEU-bidrag for 2020.')\n\n\n\nafstemnings-id 7385\n('Forslag til lov om ændring af aktieavancebeskatningsloven og '\n 'dødsboskatteloven. (Ophævelse af hovedaktionærnedslaget).')\n('Forslaget blev forkastet. For stemte 47 (V, DF, KF, NB og LA), imod stemte '\n '57 (S, RV, SF, EL og ALT), hverken for eller imod stemte 0.')\n('Med lovforslaget foreslås det, at ophæve det særlige nedslag i den '\n 'skattepligtige fortjeneste, som kan opnås ved afståelse af '\n 'hovedaktionæraktier, der er erhvervet før den 19. maj 1993.')\n\n\n\nafstemnings-id 7237\n('Forslag til lov om ændring af pensionsbeskatningsloven, '\n 'pensionsafkastbeskatningsloven, selskabsskatteloven og forskellige andre '\n 'love. (Videregivelse af oplysninger om diskvalificerende '\n 'pensionsudbetalinger, smidiggørelse af regler for flytning af '\n 'pensionsindbetalinger, justering af reglerne om omdannelse af pensionskasser '\n 'til livsforsikringsselskaber og goodwillbeskatning m.v.).')\n('Forslaget blev forkastet. For stemte 50 (V, DF, KF, NB og LA), imod stemte '\n '62 (S, RV, SF, EL og ALT), hverken for eller imod stemte 0.')\n('Formålet med forslaget er at foretage en række tekniske justeringer på '\n 'pensionsbeskatningsområdet. \\n'\n '\\n'\n 'Forslaget indeholder bl.a. adgang til oplysninger om diskvalificerende '\n 'udbetalinger for pensionsinstitutter, smidigere regler for flytning af '\n 'pensionsindbetalinger mellem forskellige pensionsordninger og justeringer af '\n 'reglerne for skattefri omstruktureringer af pensionsinstitutter. ')\n\n\n\nafstemnings-id 7278\n'Forslag til finanslov for finansåret 2020.'\n('Forslaget blev forkastet. For stemte 50 (V, DF, KF, NB og LA), imod stemte '\n '61 (S, RV, SF, EL, ALT og SIU), hverken for eller imod stemte 0.')\n('Finanslovforslaget fastlægger størrelsen og fordelingen af de samlede '\n 'statslige udgifter og indtægter for finansåret 2020. Lovforslaget indeholder '\n 'desuden overslag over statens udgifter for de efterfølgende 3 år.')\n\n\n\n"
     ]
    }
   ],
   "source": [
    "#collapse-hide\n",
    "print('Her de mest polariserende afstemninger som de blå (dvs. højrefløjen) stemte for og tabte:\\n')\n",
    "for lov in bills[ix_low]:\n",
    "    print('afstemnings-id', lov)\n",
    "    pprint.pprint(df[df.afstemning == lov].titel.unique()[0])\n",
    "    pprint.pprint(df[df.afstemning == lov].konklusion.unique()[0])\n",
    "    pprint.pprint(df[df.afstemning == lov].resume.unique()[0])\n",
    "    print('\\n\\n')"
   ]
  },
  {
   "source": [
    "Nu vil jeg kigge på anden komponent. Denne gang tager jeg 10 afstemninger fra hver retning, for bedre at forstå hvad aksen viser."
   ],
   "cell_type": "markdown",
   "metadata": {}
  },
  {
   "cell_type": "code",
   "execution_count": 30,
   "metadata": {},
   "outputs": [
    {
     "output_type": "stream",
     "name": "stdout",
     "text": [
      "Her de mest polariserende afstemninger som de grønne (dvs. bunden) stemte for og tabte:\n\nafstemnings-id 7187\n('Forslag til lov om ændring af lov om social pension, lov om højeste, '\n 'mellemste, forhøjet almindelig og almindelig førtidspension m.v., lov om '\n 'aktiv socialpolitik, lov om individuel boligstøtte og ligningsloven. '\n '(Lettelse af grænsehindring ved flytning mellem rigsdelene m.v.).')\n('Forslaget blev forkastet. For stemte 22 (SF, EL, ALT og NB), imod stemte 89 '\n '(S, V, DF, RV, KF og LA), hverken for eller imod stemte 0.')\n('Med forslaget udmøntes dele af B 34 (folketingsåret 2013-14) om '\n 'iværksættelse af en systematisk indsats mod grænsehindringer inden for '\n 'rigsfællesskabets grænser for den del af lovforslaget, der vedrører '\n 'førtidspension.\\n'\n '\\n'\n 'Med forslaget foreslås det at bemyndige beskæftigelsesministeren til at '\n 'skabe mulighed for, at man hurtigere kan udveksle sagsoplysninger mellem '\n 'rigsdelene. Borgere får ret til fortsat at modtage førtidspension i op til '\n '12 måneder efter fraflytning, og borgere, der fremadrettet automatisk vil '\n 'overgå fra højeste førtidspension på Færøerne og i Grønland til dansk '\n 'førtidspension, vil automatisk overgå fra dansk førtidspension til højeste '\n 'førtidspension på Færøerne og i Grønland, når de flytter mellem rigsdelene.\\n'\n '\\n'\n 'Med forslaget foreslås det ligeledes, at der bl.a. indføres mulighed for at '\n 'yde supplerende hjælp efter lov om aktiv socialpolitik til personer, der '\n 'modtager førtidspension fra Færøerne eller Grønland efter flytning til '\n 'Danmark, samt at sidestille færøsk og grønlandsk førtidspension ved bopæl i '\n 'Danmark med dansk førtidspension i forhold til ret til boligstøtte.\\n'\n '\\n'\n 'Det foreslås, at lovforslaget træder i kraft 1. januar 2020.\\n'\n '\\n')\n\n\n\nafstemnings-id 7184\n('Forslag til lov om ændring af lov om social pension, lov om højeste, '\n 'mellemste, forhøjet almindelig og almindelig førtidspension m.v., lov om '\n 'aktiv socialpolitik, lov om individuel boligstøtte og ligningsloven. '\n '(Lettelse af grænsehindring ved flytning mellem rigsdelene m.v.).')\n('Forslaget blev forkastet. For stemte 22 (SF, EL, ALT og NB), imod stemte 90 '\n '(S, V, DF, RV, KF og LA), hverken for eller imod stemte 0.')\n('Med forslaget udmøntes dele af B 34 (folketingsåret 2013-14) om '\n 'iværksættelse af en systematisk indsats mod grænsehindringer inden for '\n 'rigsfællesskabets grænser for den del af lovforslaget, der vedrører '\n 'førtidspension.\\n'\n '\\n'\n 'Med forslaget foreslås det at bemyndige beskæftigelsesministeren til at '\n 'skabe mulighed for, at man hurtigere kan udveksle sagsoplysninger mellem '\n 'rigsdelene. Borgere får ret til fortsat at modtage førtidspension i op til '\n '12 måneder efter fraflytning, og borgere, der fremadrettet automatisk vil '\n 'overgå fra højeste førtidspension på Færøerne og i Grønland til dansk '\n 'førtidspension, vil automatisk overgå fra dansk førtidspension til højeste '\n 'førtidspension på Færøerne og i Grønland, når de flytter mellem rigsdelene.\\n'\n '\\n'\n 'Med forslaget foreslås det ligeledes, at der bl.a. indføres mulighed for at '\n 'yde supplerende hjælp efter lov om aktiv socialpolitik til personer, der '\n 'modtager førtidspension fra Færøerne eller Grønland efter flytning til '\n 'Danmark, samt at sidestille færøsk og grønlandsk førtidspension ved bopæl i '\n 'Danmark med dansk førtidspension i forhold til ret til boligstøtte.\\n'\n '\\n'\n 'Det foreslås, at lovforslaget træder i kraft 1. januar 2020.\\n'\n '\\n')\n\n\n\nafstemnings-id 7183\n('Forslag til lov om ændring af lov om social pension, lov om højeste, '\n 'mellemste, forhøjet almindelig og almindelig førtidspension m.v., lov om '\n 'aktiv socialpolitik, lov om individuel boligstøtte og ligningsloven. '\n '(Lettelse af grænsehindring ved flytning mellem rigsdelene m.v.).')\n('Forslaget blev forkastet. For stemte 22 (SF, EL, ALT og NB), imod stemte 89 '\n '(S, V, DF, RV, KF og LA), hverken for eller imod stemte 0.')\n('Med forslaget udmøntes dele af B 34 (folketingsåret 2013-14) om '\n 'iværksættelse af en systematisk indsats mod grænsehindringer inden for '\n 'rigsfællesskabets grænser for den del af lovforslaget, der vedrører '\n 'førtidspension.\\n'\n '\\n'\n 'Med forslaget foreslås det at bemyndige beskæftigelsesministeren til at '\n 'skabe mulighed for, at man hurtigere kan udveksle sagsoplysninger mellem '\n 'rigsdelene. Borgere får ret til fortsat at modtage førtidspension i op til '\n '12 måneder efter fraflytning, og borgere, der fremadrettet automatisk vil '\n 'overgå fra højeste førtidspension på Færøerne og i Grønland til dansk '\n 'førtidspension, vil automatisk overgå fra dansk førtidspension til højeste '\n 'førtidspension på Færøerne og i Grønland, når de flytter mellem rigsdelene.\\n'\n '\\n'\n 'Med forslaget foreslås det ligeledes, at der bl.a. indføres mulighed for at '\n 'yde supplerende hjælp efter lov om aktiv socialpolitik til personer, der '\n 'modtager førtidspension fra Færøerne eller Grønland efter flytning til '\n 'Danmark, samt at sidestille færøsk og grønlandsk førtidspension ved bopæl i '\n 'Danmark med dansk førtidspension i forhold til ret til boligstøtte.\\n'\n '\\n'\n 'Det foreslås, at lovforslaget træder i kraft 1. januar 2020.\\n'\n '\\n')\n\n\n\nafstemnings-id 7474\n('Forslag til folketingsbeslutning om fjernelse af gensidig forsørgerpligt for '\n 'alle (borgerforslag).')\n('Forslaget blev forkastet. For stemte 8 (EL, ALT og UFG), imod stemte 66 (S, '\n 'V, RV, KF og LA), hverken for eller imod stemte 19 (DF, SF, NB).')\n('Med beslutningsforslaget pålægger Folketinget regeringen at fjerne den '\n 'gensidige forsørgerpligt for kontanthjælpsmodtagere, førtidspensionister, '\n 'folkepensionister og andre ydelser, hvor den gensidige forsørgerpligt er '\n 'gældende.\\n'\n '\\n'\n 'Der er tale om et borgerforslag, som inden for den fastsatte frist har '\n 'opnået det antal støttetilkendegivelser fra borgere, som kræves for at få '\n 'forslaget fremsat og behandlet som beslutningsforslag i Folketinget. \\n'\n '\\n'\n 'Fremsættelsen er alene udtryk for, at forslagsstillerne på vegne af de '\n 'partier, som støtter borgerforslagsordningen, påtager sig at opfylde en '\n 'nødvendig betingelse for, at borgerforslaget kan blive behandlet i '\n 'Folketinget i overensstemmelse med intentionerne bag ordningen.\\n')\n\n\n\nafstemnings-id 7238\n('Forslag til lov om ændring af lov om inddrivelse af gæld til det offentlige, '\n 'skatteindberetningsloven og lov om en aktiv beskæftigelsesindsats. '\n '(Kommunalt ejede forsyningsvirksomheders valg af privat inddrivelse, '\n 'restanceinddrivelsesmyndighedens overvæltning af omkostninger på skyldner '\n 'ved brug af privat inkassator til inddrivelse i udlandet og ophævelse af '\n 'fradragsret for renter af fordringer under inddrivelse samt forældelse m.v. '\n 'i genoptagelsessager på inddrivelsesområdet m.v.).')\n('Forslaget blev forkastet. For stemte 29 (DF, SF, KF og NB), imod stemte 76 '\n '(S, V, RV, Signe Munk (SF), Karsten Hønge (SF), ALT og LA), hverken for '\n 'eller imod stemte 8 (EL).')\n('Med lovforslaget forslås det at give kommunalt ejede forsyningsvirksomheder '\n 'mulighed for at vælge privat inddrivelse og dermed fravælge offentlig '\n 'inddrivelse, og at forsyningsselskaberne får mulighed for at overvælte '\n 'omkostningerne til den private inkasso på skyldneren. Derudover foreslås det '\n 'at fastsætte regler om, at Gældsstyrelsen ved antagelse af en privat '\n 'inkassator til at bistå med at inddrive gæld i udlandet ligeledes skal have '\n 'mulighed for at pålægge skyldneren omkostningerne. \\n'\n '\\n'\n 'Lovforslaget indebærer desuden forslag om at ophæve fradragsretten for '\n 'inddrivelsesrenter, der påløber gæld, der er under inddrivelse, og at '\n 'udskyde forældelsen af eventuelle tilbagebetalingskrav.\\n'\n '\\n'\n 'Derudover foreslås det, at Gældsstyrelsen ikke gør krav på tilbagebetaling '\n 'fra ikkestatslige fordringshavere, der har modtaget uretmæssigt inddrevne '\n 'beløb. \\n'\n '\\n'\n 'Endelig foreslås det, at ikkestatslige fordringshavere, der til '\n 'Gældsstyrelsen har tilbagebetalt uretmæssigt inddrevne beløb, får beløbet '\n 'tilbagebetalt.\\n')\n\n\n\nafstemnings-id 7393\n'Forslag til lov om dyrevelfærd (dyrevelfærdsloven).'\n('Forslaget blev forkastet. For stemte 41 (DF, RV, SF, EL og ALT), imod stemte '\n '62 (S, V, KF, NB og LA), hverken for eller imod stemte 0.')\n('Forslaget gennemfører en forenkling af lovgivningsstrukturen på '\n 'dyrevelfærdsområdet og gør lovgivningen mere overskuelig og brugervenlig i '\n 'praksis ved at ophæve en række dyreartsspecifikke love. Forslaget er en ny '\n 'hovedlov og er rammelov for størstedelen af dyrevelfærdslovgivningen med det '\n 'formål at fremme god dyrevelfærd og respekt for dyr som levende væsener. '\n 'Loven varetager dyrevelfærdsmæssige og dyreetiske hensyn. Forslaget '\n 'viderefører som udgangspunkt gældende ret og indeholder hovedsagelig regler '\n 'fra den gældende dyreværnslov, men det indeholder også enkelte nye regler '\n 'som f.eks. forbud mod dyrekampe.')\n\n\n\nafstemnings-id 7422\n('Forslag til folketingsbeslutning om ens krav til kvalifikationer hos læger i '\n 'Danmark, der er uddannet i henholdsvis EU-/EØS-lande og tredjelande.')\n('Forslaget blev forkastet. For stemte 21 (DF, EL og NB), imod stemte 88 (S, '\n 'V, RV, SF, Christian Juhl (EL), KF, LA og UFG), hverken for eller imod '\n 'stemte 0.')\n('For at sikre patientsikkerheden pålægger beslutningsforslaget regeringen at '\n 'sørge for, at personer, der er uddannet i et EU-/EØS-land - bortset fra '\n 'Danmark og de øvrige nordiske lande - og som søger om dansk lægeautorisation '\n 'eller anerkendelse som speciallæge i Danmark, bliver mødt med de samme krav '\n 'til og test af kvalifikationer som ansøgere, der er statsborgere og/eller '\n 'uddannet i lande uden for EU/EØS. ')\n\n\n\nafstemnings-id 7361\n('Forslag til folketingsbeslutning om folketingsmedlemmers omkostningstillæg, '\n 'eftervederlag, sygeorlov og afholdelse af barselsorlov.')\n('Forslaget blev forkastet. For stemte 22 (DF, EL og NB), imod stemte 80 (S, '\n 'V, RV, SF, KF, ALT og LA), hverken for eller imod stemte 0.')\n('Beslutningsforslaget går ud på, at der skal gennemføres visse ændringer af '\n 'folketingsmedlemmernes vilkår med hensyn til vederlag og orlov. Konkret '\n 'indebærer forslaget, at medlemmer af Folketinget ikke skal kunne modtage '\n 'omkostningstillæg, mens de er på barselsorlov, optjene eftervederlag, mens '\n 'de bestrider et andet job, højst skal kunne modtage eftervederlag i 6 '\n 'måneder, skal fremvise en lægeerklæring i forbindelse med sygeorlov, og at '\n 'de skal omfattes af reglerne i barselsloven for afholdelse af '\n 'barselsorlov. \\n'\n '\\n'\n 'Beslutningsforslaget er en delvis genfremsættelse af beslutningsforslag nr. '\n 'B 152, folketingsåret 2018-19, 1. samling.')\n\n\n\nafstemnings-id 7362\n('Forslag til folketingsbeslutning om indførelse af årlige '\n '2-procentsbesparelser på gruppestøttemidlerne til Folketingets partier.')\n('Forslaget blev forkastet. For stemte 25 (Jens Joel (S), DF, EL, NB og LA), '\n 'imod stemte 77 (S, V, RV, SF, KF og ALT), hverken for eller imod stemte 0.')\n('Beslutningsforslaget indebærer, at der skal indføres årlige besparelser på 2 '\n 'pct. på gruppestøttemidlerne til Folketingets partier svarende til det '\n 'såkaldte omprioriteringsbidrag, som en række offentlige områder og '\n 'institutioner er pålagt.')\n\n\n\nafstemnings-id 7477\n'Forslag til folketingsbeslutning om ændring af ferieloven (borgerforslag).'\n('Forslaget blev forkastet. For stemte 20 (DF, EL, NB, LA og UFG), imod stemte '\n '65 (S, V, RV, KF og ALT), hverken for eller imod stemte 9 (SF).')\n('Ifølge forslaget skal de såkaldte indefrosne feriepenge udbetales senest den '\n '1. september 2020.\\n'\n '\\n'\n 'Der er tale om et borgerforslag, som inden for den fastsatte frist har '\n 'opnået det antal støttetilkendegivelser fra borgere, som kræves for at få '\n 'forslaget fremsat og behandlet som beslutningsforslag i Folketinget. \\n'\n '\\n'\n 'Fremsættelsen er alene udtryk for, at forslagsstillerne på vegne af de '\n 'partier, som støtter borgerforslagsordningen, påtager sig at opfylde en '\n 'nødvendig betingelse for, at borgerforslaget kan blive behandlet i '\n 'Folketinget i overensstemmelse med intentionerne bag ordningen. ')\n\n\n\n"
     ]
    }
   ],
   "source": [
    "#collapse-hide\n",
    "iyhigh = np.argsort(yvector)[-10:] # returns an array of sorted indexes of the components\n",
    "\n",
    "print('Her de mest polariserende afstemninger som de grønne (dvs. bunden) stemte for og tabte:\\n')\n",
    "for lov in bills[iyhigh]:\n",
    "    print('afstemnings-id', lov)\n",
    "    pprint.pprint(df[df.afstemning == lov].titel.unique()[0])\n",
    "    pprint.pprint(df[df.afstemning == lov].konklusion.unique()[0])\n",
    "    pprint.pprint(df[df.afstemning == lov].resume.unique()[0])\n",
    "    print('\\n\\n')"
   ]
  },
  {
   "cell_type": "code",
   "execution_count": 31,
   "metadata": {},
   "outputs": [
    {
     "output_type": "stream",
     "name": "stdout",
     "text": [
      "Her de mest polariserende afstemninger som de lilla (dvs. toppen) stemte for og vandt:\n\nafstemnings-id 7407\n('Forslag til lov om ændring af lov om social service. (Ro og stabilitet for '\n 'udsatte børn og unge og fuldbyrdelse af tvangsmæssige afgørelser om ændret '\n 'anbringelsessted uden samtykke).')\n('Forslaget blev vedtaget. For stemte 73 (S, V, RV og KF), imod stemte 35 (DF, '\n 'SF, EL, ALT, NB og LA), hverken for eller imod stemte 0.')\n('Med lovforslaget ændres lov om social service. Det foreslås blandt andet, at '\n 'kommunerne får adgang til at fuldbyrde afgørelser om ændret anbringelsessted '\n 'uden samtykke. Hvis denne fuldbyrdelse sker med bistand fra politiet, skal '\n 'den registreres og indberettes af kommunen til Ankestyrelsen. Det forslås '\n 'videre, at fuldbyrdelse af afgørelser skal ske med henblik på at sikre '\n 'barnets eller den unges bedste.')\n\n\n\nafstemnings-id 7363\n('Folketinget noterer sig, at der har været politiske drøftelser i '\n 'forligskredsen med henblik på at ændre offentlighedsloven. Folketinget '\n 'noterer sig endvidere, at det i forligskredsen ikke har været muligt at nå '\n 'til enighed om en ændring af offentlighedsloven. Endelig noterer Folketinget '\n 'sig, at justitsministeren ikke finder behov for at genåbne drøftelserne om '\n 'at ændre offentlighedsloven.')\n('Forslaget blev vedtaget. For stemte 66 (S, V, Liselott Blixt (DF) og KF), '\n 'imod stemte 44 (DF, RV, SF, EL, ALT, NB og LA), hverken for eller imod '\n 'stemte 0.')\n''\n\n\n\nafstemnings-id 7326\n('Forslag til lov om ændring af lov om offentlighed i forvaltningen. '\n '(Ophævelse af revisionsbestemmelse).')\n('Forslaget blev vedtaget. For stemte 68 (S, V, KF og LA), imod stemte 46 (DF, '\n 'RV, SF, EL, ALT, NB og UFG), hverken for eller imod stemte 0.')\n('Det følger af offentlighedslovens § 44, at justitsministeren i '\n 'folketingsåret 2018-19 skulle fremsætte lovforslag om revision af '\n 'offentlighedslovens § 16 om postlister. Ved en postliste forstås en '\n 'fortegnelse over dokumenter, der den pågældende dag er modtaget i eller '\n 'afsendt af myndigheden. \\n'\n '\\n'\n 'Som opfølgning på den generelle evaluering af offentlighedsloven har der '\n 'været forligskredsdrøftelser om en ny aftale om offentlighedsloven, og bl.a. '\n 'af den grund er revisionen af postlistebestemmelsen blevet udskudt i 2017 og '\n 'i 2018. \\n'\n '\\n'\n 'Da det ikke har været muligt at opnå enighed i forligskredsen om at ændre '\n 'offentlighedsloven, herunder om at indføre en postlisteordning, foreslås '\n 'det, at revisionsbestemmelsen i offentlighedslovens § 44 ophæves. \\n'\n '\\n'\n 'Lovforslaget er en genfremsættelse af L 176 (2018-19, 1. samling).\\n'\n '\\n'\n 'Det foreslås, at loven træder i kraft den 1. januar 2020.\\n')\n\n\n\nafstemnings-id 7341\n('Forslag til lov om ændring af skatteforvaltningsloven. (Afledt skattemæssig '\n 'virkning ved ekstraordinær genoptagelse af ejendomsvurderinger).')\n('Forslaget blev vedtaget. For stemte 78 (S, V, RV, SF, KF, ALT og LA), imod '\n 'stemte 22 (DF, EL og NB), hverken for eller imod stemte 0.')\n('Lovforslaget handler om de dele af lovforslag nr. L 71, der omhandler afledt '\n 'skattemæssig virkning ved ekstraordinær genoptagelse af ejendomsvurderinger.')\n\n\n\nafstemnings-id 7485\n('Forslag til lov om ændring af aktiesparekontoloven. (Forhøjelse af loftet '\n 'for indskud på aktiesparekontoen).')\n('Forslaget blev vedtaget. For stemte 71 (S, V, RV, KF, NB og LA), imod stemte '\n '25 (DF, SF, EL, ALT og UFG), hverken for eller imod stemte 0.')\n('Det foreslås med lovforslaget at forhøje loftet for indskud på '\n 'aktiesparekontoen fra 50.000 kr. i 2019 til 100.000 kr. i 2020.')\n\n\n\nafstemnings-id 7342\n('Forslag til lov om ændring af sømandsbeskatningsloven, \\n'\n 'tonnageskatteloven og forskellige andre love. (Tilpasning af DIS-ordningen '\n 'og tonnageskatteordningen til EU-retten på baggrund af krav fra Kommissionen '\n 'm.v.).')\n('Forslaget blev vedtaget. For stemte 72 (S, V, RV, KF, ALT, NB og LA), imod '\n 'stemte 20 (DF, EL og Pernille Vermund (NB)), hverken for eller imod stemte 9 '\n '(SF).')\n('Med lovforslaget foreslås tilpasninger af DIS-ordningen og '\n 'tonnageskatteordningen til EU-retten på baggrund af krav fra Kommissionen.')\n\n\n\nafstemnings-id 7418\n('Folketinget konstaterer, at det er af afgørende betydning, at der stilles '\n 'fornuftige og høje krav til ansøgere om dansk indfødsret, herunder at de '\n 'taler det danske sprog og har kendskab til danske samfundsforhold, dansk '\n 'kultur og historie. Det følger af grundloven, at det er Folketingets '\n 'kompetence at tildele dansk indfødsret. Det følger videre af en dom fra '\n 'Højesteret den 13. september 2013, at Danmark har påtaget sig en række '\n 'folkeretlige pligter, som forudsættes efterlevet.')\n('Forslaget blev vedtaget. For stemte 67 (S, V, KF og LA), imod stemte 43 (DF, '\n 'RV, SF, EL, ALT og NB), hverken for eller imod stemte 0.')\n''\n\n\n\nafstemnings-id 7335\n('Forslag til lov om ændring af lov om inddrivelse af gæld til det offentlige '\n 'og skatteindberetningsloven. (Ophævelse af fradragsret for renter af '\n 'fordringer under inddrivelse).')\n('Forslaget blev vedtaget. For stemte 94 (S, V, DF, RV, KF, ALT og LA), imod '\n 'stemte 20 (SF, EL og NB), hverken for eller imod stemte 0.')\n('Med lovforslaget foreslås det at ophæve fradragsretten for renter af '\n 'fordringer under inddrivelse.')\n\n\n\nafstemnings-id 7333\n('Forslag til lov om ændring af skatteindberetningsloven, skattekontrolloven, '\n 'kildeskatteloven, ligningsloven og pensionsbeskatningsloven. (Gennemførelse '\n 'af direktiv om obligatorisk automatisk udveksling af oplysninger på '\n 'beskatningsområdet i forbindelse med indberetningspligtige '\n 'grænseoverskridende ordninger).')\n('Forslaget blev vedtaget. For stemte 88 (S, V, RV, SF, EL og ALT), imod '\n 'stemte 25 (DF, KF, NB og LA), hverken for eller imod stemte 0.')\n('Lovforslaget går ud på, at udbydere af potentielt aggressive '\n 'grænseoverskridende skatteplanlægningsordninger pålægges at indberette '\n 'oplysninger herom til Skatteforvaltningen, med henblik på at '\n 'Skatteforvaltningen vil kunne underrette andre EU-medlemsstaters '\n 'skattemyndigheder om sådanne ordninger.\\n'\n '\\n'\n 'Der skal desuden skabes hjemmel til, at skatteministeren kan fastsætte '\n 'regler ved bekendtgørelse, der gennemfører Rådets direktiv 2018/822/EU af '\n '25. maj 2018 om ændring af direktiv 2011/16/EU, hvad angår obligatorisk '\n 'automatisk udveksling af oplysninger på beskatningsområdet i forbindelse med '\n 'indberetningspligtige grænseoverskridende ordninger (DAC6), og at '\n 'skatteministeren vil kunne gennemføre tilsvarende aftaler med lande uden for '\n 'EU.\\n')\n\n\n\nafstemnings-id 7190\n('Folketinget mener, at fremmedkrigere, der deltager i en forræderisk kamp mod '\n 'danske værdier, bør tage konsekvensen af deres valg og blive væk. '\n 'Folketinget opfordrer regeringen til at arbejde for, at den, der desværre '\n 'vender tilbage, skal straffes hårdt og konsekvent.')\n('Forslaget blev vedtaget. For stemte 52 (S, V og LA), imod stemte 50 (DF, RV, '\n 'SF, EL, KF, ALT og NB), hverken for eller imod stemte 0.')\n''\n\n\n\n"
     ]
    }
   ],
   "source": [
    "#collapse-hide\n",
    "iylow = np.argsort(yvector)[:10] \n",
    "print('Her de mest polariserende afstemninger som de lilla (dvs. toppen) stemte for og vandt:\\n')\n",
    "for lov in bills[iylow]:\n",
    "    print('afstemnings-id', lov)\n",
    "    pprint.pprint(df[df.afstemning == lov].titel.unique()[0])\n",
    "    pprint.pprint(df[df.afstemning == lov].konklusion.unique()[0])\n",
    "    pprint.pprint(df[df.afstemning == lov].resume.unique()[0])\n",
    "    print('\\n\\n')"
   ]
  },
  {
   "source": [
    "Så hvad viser dette? Højre-venstrefløjs-aksen handler om emner som ordentlige arbejdsforhold hos chauffører og vognmænd, om børnebidrag til enlige forsørgere, om afskaffelse af opholdskrav for ret til dagpenge, samt finanslovsting. Altså ting man kunne forvente at der var uenighed om mellem de to fløje, og som venstrefløjen + S fik igennem fordi de har flertal.\n",
    "\n",
    "Hvad så med y-aksen, altså bunden vs. toppen i figuren? De mest polariserende afstemninger mellem disse to fløje handler om ting som offentlighedloven (bunden vil have den ændret, toppen ikke vil), mere dyrevelfærd (toppen vil ikke), afskaffelse af EU-privilegier (toppen vil ikke), ligeberettigelse til social pension (toppen vil ikke), fjernelse af politikeres frynsegoder (toppen vil ikke), og om imødekommelse af borgerforslag (toppen vil ikke). Blandt de emner som blev gennemført, men bunden stemte imod er nye regler for tvangsanbringelser, indvandrere, og diverse økonomiske regler (DF hhv EL er dog typisk langt fra hinanden i disse sager), og igen en modstand mod at udskyde ændring af offentlighedloven.\n",
    "\n",
    "Alt i alt kan man måske sige at bund versus top i Dansk politik handler om dem der vil fjerne privilegier fra et bestemt 'establishment', og dem der vil beholde privilegierne. Der er dog tale om forskellige typer af 'establishment'. Nogle gange er det den politiske elite vs. resten, nogle gange er det EU vs. resten af verden, nogle gange er det mennesker vs. dyr, og nogle gange er det de rige vs. de ikke-så-rige. Måske kan man med [Larry Summers ord](https://aciddc.wordpress.com/2017/05/05/larry-summers-wants-to-know-are-you-an-insider-or-an-outsider/) sige, at den næst-vigtigste skillelinje i dansk politik, efter højre-venstre opdelingen, er den der adskiller 'insiders' fra 'outsiders'. Outsiders er de frie mennesker, der råber op og siger hvad de har lyst til, men ikke bestemmer noget som helst. Insiders er dem der kun siger det, der er accepteret at sige som insider, og de lytter ikke til outsiderne. Til gengæld får de lov til at tage alle de vigtige beslutninger.\n"
   ],
   "cell_type": "markdown",
   "metadata": {}
  },
  {
   "cell_type": "code",
   "execution_count": null,
   "metadata": {},
   "outputs": [],
   "source": []
  }
 ],
 "metadata": {
  "kernelspec": {
   "display_name": "Python 3",
   "language": "python",
   "name": "python3"
  },
  "language_info": {
   "codemirror_mode": {
    "name": "ipython",
    "version": 3
   },
   "file_extension": ".py",
   "mimetype": "text/x-python",
   "name": "python",
   "nbconvert_exporter": "python",
   "pygments_lexer": "ipython3",
   "version": "3.8.5-final"
  }
 },
 "nbformat": 4,
 "nbformat_minor": 4
}